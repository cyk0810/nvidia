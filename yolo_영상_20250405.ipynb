{
  "nbformat": 4,
  "nbformat_minor": 0,
  "metadata": {
    "colab": {
      "provenance": [],
      "gpuType": "T4",
      "authorship_tag": "ABX9TyN0qhOtZ8tnuOLtApgm9fw4",
      "include_colab_link": true
    },
    "kernelspec": {
      "name": "python3",
      "display_name": "Python 3"
    },
    "language_info": {
      "name": "python"
    },
    "accelerator": "GPU"
  },
  "cells": [
    {
      "cell_type": "markdown",
      "metadata": {
        "id": "view-in-github",
        "colab_type": "text"
      },
      "source": [
        "<a href=\"https://colab.research.google.com/github/cyk0810/nvidia/blob/20250404-yolo-11-%EC%98%81%EC%83%81%EB%A7%81%ED%81%AC/yolo11_%EC%98%81%EC%83%81_20250405.ipynb\" target=\"_parent\"><img src=\"https://colab.research.google.com/assets/colab-badge.svg\" alt=\"Open In Colab\"/></a>"
      ]
    },
    {
      "cell_type": "code",
      "source": [
        "!pip install -q ultralytics yt-dlp opencv-python\n",
        "\n",
        "# 2. 라이브러리 임포트\n",
        "from ultralytics import YOLO\n",
        "import yt_dlp\n",
        "import cv2\n",
        "import os\n",
        "\n",
        "# 3. 유튜브 링크 설정 (Shorts도 OK)\n",
        "video_url = 'https://www.youtube.com/shorts/3w4B3uQHP9Q'  # 원하는 영상 링크\n",
        "output_filename = 'input_video.mp4'\n",
        "\n",
        "# 4. yt_dlp로 영상 다운로드\n",
        "ydl_opts = {\n",
        "    'format': 'bestvideo[ext=mp4]+bestaudio[ext=m4a]/best[ext=mp4]/best',\n",
        "    'outtmpl': output_filename,\n",
        "    'merge_output_format': 'mp4'\n",
        "}\n",
        "\n",
        "print(\"🔽 YouTube 영상 다운로드 중...\")\n",
        "with yt_dlp.YoutubeDL(ydl_opts) as ydl:\n",
        "    ydl.download([video_url])\n",
        "print(f\"✅ 다운로드 완료: {output_filename}\")\n",
        "\n",
        "# 5. YOLO11x 모델 로드\n",
        "# ⚠️ yolo11x.pt 파일이 Colab 환경에 있어야 함!\n",
        "# (Colab 왼쪽에 직접 업로드하거나 Google Drive 마운트해서 경로 지정해도 됨)\n",
        "model_path = 'yolo11x.pt'  # 파일명을 정확하게!\n",
        "model = YOLO(model_path)\n",
        "\n",
        "# 6. 비디오 프레임 분석 및 저장\n",
        "cap = cv2.VideoCapture(output_filename)\n",
        "width = int(cap.get(cv2.CAP_PROP_FRAME_WIDTH))\n",
        "height = int(cap.get(cv2.CAP_PROP_FRAME_HEIGHT))\n",
        "fps = int(cap.get(cv2.CAP_PROP_FPS))\n",
        "out = cv2.VideoWriter('output_video.mp4', cv2.VideoWriter_fourcc(*'mp4v'), fps, (width, height))\n",
        "\n",
        "print(\"🧠 YOLO11x 분석 시작...\")\n",
        "frame_count = 0\n",
        "while cap.isOpened():\n",
        "    ret, frame = cap.read()\n",
        "    if not ret:\n",
        "        break\n",
        "\n",
        "    results = model(frame, verbose=False)\n",
        "    annotated_frame = results[0].plot()\n",
        "    out.write(annotated_frame)\n",
        "\n",
        "    frame_count += 1\n",
        "    if frame_count % 30 == 0:\n",
        "        print(f\"🔍 {frame_count} 프레임 처리 중...\")\n",
        "\n",
        "cap.release()\n",
        "out.release()\n",
        "print(\"✅ 분석 완료! 결과 영상: output_video.mp4\")"
      ],
      "metadata": {
        "colab": {
          "base_uri": "https://localhost:8080/"
        },
        "id": "3ZrYFG07KtMx",
        "outputId": "5c2a4d64-c21a-4a03-dbd1-cf18df4aa222"
      },
      "execution_count": null,
      "outputs": [
        {
          "output_type": "stream",
          "name": "stdout",
          "text": [
            "🔽 YouTube 영상 다운로드 중...\n",
            "[youtube] Extracting URL: https://www.youtube.com/shorts/3w4B3uQHP9Q\n",
            "[youtube] 3w4B3uQHP9Q: Downloading webpage\n",
            "[youtube] 3w4B3uQHP9Q: Downloading tv client config\n",
            "[youtube] 3w4B3uQHP9Q: Downloading player 73381ccc-main\n",
            "[youtube] 3w4B3uQHP9Q: Downloading tv player API JSON\n",
            "[youtube] 3w4B3uQHP9Q: Downloading ios player API JSON\n",
            "[youtube] 3w4B3uQHP9Q: Downloading m3u8 information\n",
            "[info] 3w4B3uQHP9Q: Downloading 1 format(s): 625+140\n",
            "[download] input_video.mp4 has already been downloaded\n",
            "✅ 다운로드 완료: input_video.mp4\n",
            "Downloading https://github.com/ultralytics/assets/releases/download/v8.3.0/yolo11x.pt to 'yolo11x.pt'...\n"
          ]
        },
        {
          "output_type": "stream",
          "name": "stderr",
          "text": [
            "100%|██████████| 109M/109M [00:00<00:00, 117MB/s] \n"
          ]
        },
        {
          "output_type": "stream",
          "name": "stdout",
          "text": [
            "🧠 YOLO11x 분석 시작...\n",
            "🔍 30 프레임 처리 중...\n",
            "🔍 60 프레임 처리 중...\n",
            "🔍 90 프레임 처리 중...\n",
            "🔍 120 프레임 처리 중...\n",
            "🔍 150 프레임 처리 중...\n",
            "🔍 180 프레임 처리 중...\n",
            "🔍 210 프레임 처리 중...\n",
            "🔍 240 프레임 처리 중...\n",
            "✅ 분석 완료! 결과 영상: output_video.mp4\n"
          ]
        }
      ]
    }
  ]
}
